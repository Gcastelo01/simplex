{
 "cells": [
  {
   "cell_type": "markdown",
   "metadata": {},
   "source": [
    "# Algoritmo Simplex\n",
    "\n",
    "## Dados Pessoais:\n",
    "* **Nome**: Gabriel Castelo Branco Rocha Alencar Pinto\n",
    "* **Matrícula**: 2020006523"
   ]
  },
  {
   "cell_type": "code",
   "execution_count": 13,
   "metadata": {},
   "outputs": [],
   "source": [
    "import modules.linearIndependence as li\n",
    "import modules.treatFunctions as tf\n",
    "import modules.simplex as sp"
   ]
  },
  {
   "cell_type": "markdown",
   "metadata": {},
   "source": [
    "### Iniciando o SIMPLEX\n",
    "\n",
    "Em seguida, com os dados do problema prontos, devem ser estes colocados na FPI, permitindo fazer um tableau de maneira mais eficiente.\n"
   ]
  },
  {
   "cell_type": "code",
   "execution_count": 16,
   "metadata": {},
   "outputs": [
    {
     "name": "stdout",
     "output_type": "stream",
     "text": [
      "\n",
      "---------------------------------------------\n",
      "| INFORMAÇÕES DA PROGRAMAÇÃO LINEAR| \n",
      "\n",
      "- Número de variáveis: 5;\n",
      "\n",
      "- Número de Restrições: 7 \n",
      "\n",
      "- Vetor de Custos: [  0.   -22.75   0.     0.   -13.25  -5.5    0.    -0.25   0.    -4.\n",
      "   0.     0.  ] \n",
      "\n",
      "- Vetor de Resultados: [-1.16666667 -7.58333333  9.16666667  2.33333333 -2.41666667  0.58333333\n",
      " -0.66666667]\n",
      "\n",
      "- Matriz de Restrições: \n",
      " [[ 0.          0.83333333  1.          0.          0.5         0.33333333\n",
      "   0.          0.16666667  0.          0.33333333  0.          0.        ]\n",
      " [ 0.         -1.08333333  0.          0.          1.75       -0.83333333\n",
      "   1.          0.08333333  0.         -1.33333333  0.          0.        ]\n",
      " [ 0.          0.16666667  0.          0.         -4.5        -0.33333333\n",
      "   0.         -1.16666667  0.          0.66666667  1.          0.        ]\n",
      " [ 1.          1.33333333  0.          0.          0.          0.33333333\n",
      "   0.         -0.33333333  0.          0.33333333  0.          0.        ]\n",
      " [ 0.          2.08333333  0.          0.         -0.75       -0.16666667\n",
      "   0.         -1.08333333  1.          0.33333333  0.          0.        ]\n",
      " [ 0.          0.08333333  0.          1.         -0.75       -0.16666667\n",
      "   0.         -0.08333333  0.          0.33333333  0.          0.        ]\n",
      " [ 0.          2.33333333  0.          0.         -1.          0.33333333\n",
      "   0.         -0.33333333  0.          1.33333333  0.          1.        ]] \n",
      "\n",
      "----------------------------------------------\n",
      "        \n",
      "\n",
      "        1. inviavel\n",
      "        3. [ 5.5  -0.    0.25 -0.    4.   -0.   -0.  ]\n",
      "          \n"
     ]
    }
   ],
   "source": [
    "m, cost, res, var = tf.input_treat(f'./test/05')\n",
    "\n",
    "s = sp.LinearProgram(var, res, cost, m)\n",
    "\n",
    "s.makeFPI()\n",
    "\n",
    "simplexRunner = sp.Simplex(s)\n",
    "simplexRunner.runSimplex()\n",
    "\n",
    "print(simplexRunner)"
   ]
  }
 ],
 "metadata": {
  "kernelspec": {
   "display_name": "Python 3.10.6 64-bit",
   "language": "python",
   "name": "python3"
  },
  "language_info": {
   "codemirror_mode": {
    "name": "ipython",
    "version": 3
   },
   "file_extension": ".py",
   "mimetype": "text/x-python",
   "name": "python",
   "nbconvert_exporter": "python",
   "pygments_lexer": "ipython3",
   "version": "3.8.10"
  },
  "orig_nbformat": 4,
  "vscode": {
   "interpreter": {
    "hash": "916dbcbb3f70747c44a77c7bcd40155683ae19c65e1c03b4aa3499c5328201f1"
   }
  }
 },
 "nbformat": 4,
 "nbformat_minor": 2
}

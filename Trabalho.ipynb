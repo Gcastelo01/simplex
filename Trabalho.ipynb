{
 "cells": [
  {
   "cell_type": "markdown",
   "metadata": {},
   "source": [
    "# Algoritmo Simplex\n",
    "\n",
    "## Dados Pessoais:\n",
    "* **Nome**: Gabriel Castelo Branco Rocha Alencar Pinto\n",
    "* **Matrícula**: 2020006523"
   ]
  },
  {
   "cell_type": "code",
   "execution_count": null,
   "metadata": {},
   "outputs": [],
   "source": [
    "import modules.linearIndependence as li\n",
    "import modules.treatFunctions as tf\n",
    "import modules.simplex as sp\n",
    "import numpy as np"
   ]
  },
  {
   "cell_type": "markdown",
   "metadata": {},
   "source": [
    "### Tratando as entradas\n",
    "\n",
    "Para poder realizar as PL's, primeiramente é necessário realizar o processamento da entrada. Isso consiste em separar as linhas da entrada em: Matriz de Restrições, Vetor de Custos, número de restrições e Número de Variáveis."
   ]
  },
  {
   "cell_type": "code",
   "execution_count": null,
   "metadata": {},
   "outputs": [],
   "source": [
    "m, cost, res, var = tf.input_treat(f'./test/01')\n"
   ]
  },
  {
   "cell_type": "markdown",
   "metadata": {},
   "source": [
    "### Iniciando o SIMPLEX\n",
    "\n",
    "Em seguida, com os dados do problema prontos, devem ser estes colocados na FPI, permitindo fazer um tableau de maneira mais eficiente.\n"
   ]
  },
  {
   "cell_type": "code",
   "execution_count": null,
   "metadata": {},
   "outputs": [],
   "source": [
    "s = sp.LinearProgram(var, res, cost, m)\n",
    "\n",
    "s.makeFPI()"
   ]
  },
  {
   "cell_type": "markdown",
   "metadata": {},
   "source": [
    "### Testes "
   ]
  },
  {
   "cell_type": "code",
   "execution_count": null,
   "metadata": {},
   "outputs": [],
   "source": [
    "for i in range(1, 15):\n",
    "  if i < 10:\n",
    "    m, cost, res, var = tf.input_treat(f'./test/0{i}')\n",
    "    s = sp.LinearProgram(var, res, cost, m)\n",
    "    s.makeFPI()\n",
    "    print(s)\n",
    "    \n",
    "  else:\n",
    "    m, cost, res, var = tf.input_treat(f'./test/{i}')\n",
    "    s = sp.LinearProgram(var, res, cost, m)\n",
    "    s.makeFPI()\n",
    "    print(s)"
   ]
  }
 ],
 "metadata": {
  "kernelspec": {
   "display_name": "Python 3.10.6 64-bit",
   "language": "python",
   "name": "python3"
  },
  "language_info": {
   "codemirror_mode": {
    "name": "ipython",
    "version": 3
   },
   "file_extension": ".py",
   "mimetype": "text/x-python",
   "name": "python",
   "nbconvert_exporter": "python",
   "pygments_lexer": "ipython3",
   "version": "3.10.6"
  },
  "orig_nbformat": 4,
  "vscode": {
   "interpreter": {
    "hash": "916dbcbb3f70747c44a77c7bcd40155683ae19c65e1c03b4aa3499c5328201f1"
   }
  }
 },
 "nbformat": 4,
 "nbformat_minor": 2
}

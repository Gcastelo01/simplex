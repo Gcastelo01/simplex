{
 "cells": [
  {
   "cell_type": "markdown",
   "metadata": {},
   "source": [
    "# Algoritmo Simplex\n",
    "\n",
    "## Dados Pessoais:\n",
    "* **Nome**: Gabriel Castelo Branco Rocha Alencar Pinto\n",
    "* **Matrícula**: 2020006523"
   ]
  },
  {
   "cell_type": "code",
   "execution_count": 1,
   "metadata": {},
   "outputs": [],
   "source": [
    "import modules.linearIndependence as li\n",
    "import modules.treatFunctions as tf\n",
    "import modules.simplex as sp"
   ]
  },
  {
   "cell_type": "markdown",
   "metadata": {},
   "source": [
    "### Iniciando o SIMPLEX\n",
    "\n",
    "Em seguida, com os dados do problema prontos, devem ser estes colocados na FPI, permitindo fazer um tableau de maneira mais eficiente.\n"
   ]
  },
  {
   "cell_type": "code",
   "execution_count": 2,
   "metadata": {},
   "outputs": [
    {
     "ename": "KeyboardInterrupt",
     "evalue": "",
     "output_type": "error",
     "traceback": [
      "\u001b[0;31m---------------------------------------------------------------------------\u001b[0m",
      "\u001b[0;31mKeyboardInterrupt\u001b[0m                         Traceback (most recent call last)",
      "Cell \u001b[0;32mIn [2], line 8\u001b[0m\n\u001b[1;32m      5\u001b[0m s\u001b[39m.\u001b[39mmakeFPI()\n\u001b[1;32m      7\u001b[0m simplexRunner \u001b[39m=\u001b[39m sp\u001b[39m.\u001b[39mSimplex(s)\n\u001b[0;32m----> 8\u001b[0m simplexRunner\u001b[39m.\u001b[39;49mrunSimplex()\n\u001b[1;32m     10\u001b[0m \u001b[39mprint\u001b[39m(simplexRunner)\n",
      "File \u001b[0;32m~/faculdade/5o_semestre/PO/simplex/modules/simplex.py:180\u001b[0m, in \u001b[0;36mSimplex.runSimplex\u001b[0;34m(self)\u001b[0m\n\u001b[1;32m    178\u001b[0m         \u001b[39mself\u001b[39m\u001b[39m.\u001b[39m__kind \u001b[39m=\u001b[39m \u001b[39m'\u001b[39m\u001b[39milimitada\u001b[39m\u001b[39m'\u001b[39m\n\u001b[1;32m    179\u001b[0m         \u001b[39mbreak\u001b[39;00m\n\u001b[0;32m--> 180\u001b[0m     \u001b[39mself\u001b[39;49m\u001b[39m.\u001b[39;49m__pivot__(iMax)\n\u001b[1;32m    182\u001b[0m \u001b[39mprint\u001b[39m(\u001b[39mself\u001b[39m\u001b[39m.\u001b[39m__lp)\n\u001b[1;32m    184\u001b[0m \u001b[39m# Invertendo o valor objetivo\u001b[39;00m\n",
      "File \u001b[0;32m~/faculdade/5o_semestre/PO/simplex/modules/simplex.py:136\u001b[0m, in \u001b[0;36mSimplex.__pivot__\u001b[0;34m(self, iMax)\u001b[0m\n\u001b[1;32m    134\u001b[0m \u001b[39mif\u001b[39;00m i \u001b[39m!=\u001b[39m small_idx:\n\u001b[1;32m    135\u001b[0m     toBeNull \u001b[39m=\u001b[39m \u001b[39mself\u001b[39m\u001b[39m.\u001b[39m__lp\u001b[39m.\u001b[39mrest_M[i][iMax]\n\u001b[0;32m--> 136\u001b[0m     \u001b[39mself\u001b[39m\u001b[39m.\u001b[39m__lp\u001b[39m.\u001b[39mrest_M[i] \u001b[39m-\u001b[39m\u001b[39m=\u001b[39m (toBeNull \u001b[39m*\u001b[39m \u001b[39mself\u001b[39m\u001b[39m.\u001b[39m__lp\u001b[39m.\u001b[39mrest_M[small_idx])\n\u001b[1;32m    137\u001b[0m     \u001b[39mself\u001b[39m\u001b[39m.\u001b[39m__lp\u001b[39m.\u001b[39mrest_results[i] \u001b[39m-\u001b[39m\u001b[39m=\u001b[39m (toBeNull \u001b[39m*\u001b[39m \u001b[39mself\u001b[39m\u001b[39m.\u001b[39m__lp\u001b[39m.\u001b[39mrest_results[small_idx])\n\u001b[1;32m    138\u001b[0m     \u001b[39mself\u001b[39m\u001b[39m.\u001b[39m__VERO[i] \u001b[39m-\u001b[39m\u001b[39m=\u001b[39m (toBeNull \u001b[39m*\u001b[39m \u001b[39mself\u001b[39m\u001b[39m.\u001b[39m__VERO[small_idx]) \u001b[39m# Repetindo no VERO\u001b[39;00m\n",
      "\u001b[0;31mKeyboardInterrupt\u001b[0m: "
     ]
    }
   ],
   "source": [
    "m, cost, res, var = tf.input_treat(f'./test/05')\n",
    "\n",
    "s = sp.LinearProgram(var, res, cost, m)\n",
    "\n",
    "s.makeFPI()\n",
    "\n",
    "simplexRunner = sp.Simplex(s)\n",
    "simplexRunner.runSimplex()\n",
    "\n",
    "print(simplexRunner)"
   ]
  }
 ],
 "metadata": {
  "kernelspec": {
   "display_name": "Python 3.10.6 64-bit",
   "language": "python",
   "name": "python3"
  },
  "language_info": {
   "codemirror_mode": {
    "name": "ipython",
    "version": 3
   },
   "file_extension": ".py",
   "mimetype": "text/x-python",
   "name": "python",
   "nbconvert_exporter": "python",
   "pygments_lexer": "ipython3",
   "version": "3.8.10"
  },
  "orig_nbformat": 4,
  "vscode": {
   "interpreter": {
    "hash": "916dbcbb3f70747c44a77c7bcd40155683ae19c65e1c03b4aa3499c5328201f1"
   }
  }
 },
 "nbformat": 4,
 "nbformat_minor": 2
}

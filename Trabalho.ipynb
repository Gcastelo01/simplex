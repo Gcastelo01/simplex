{
 "cells": [
  {
   "cell_type": "markdown",
   "metadata": {},
   "source": [
    "# Algoritmo Simplex\n",
    "\n",
    "## Dados Pessoais:\n",
    "* **Nome**: Gabriel Castelo Branco Rocha Alencar Pinto\n",
    "* **Matrícula**: 2020006523"
   ]
  },
  {
   "cell_type": "code",
   "execution_count": 1,
   "metadata": {},
   "outputs": [],
   "source": [
    "import modules.linearIndependence as li\n",
    "import modules.treatFunctions as tf\n",
    "import modules.simplex as sp"
   ]
  },
  {
   "cell_type": "markdown",
   "metadata": {},
   "source": [
    "### Tratando as entradas\n",
    "\n",
    "Para poder realizar as PL's, primeiramente é necessário realizar o processamento da entrada. Isso consiste em separar as linhas da entrada em: Matriz de Restrições, Vetor de Custos, número de restrições e Número de Variáveis."
   ]
  },
  {
   "cell_type": "code",
   "execution_count": 2,
   "metadata": {},
   "outputs": [],
   "source": [
    "m, cost, res, var = tf.input_treat(f'./test/01')\n"
   ]
  },
  {
   "cell_type": "markdown",
   "metadata": {},
   "source": [
    "### Iniciando o SIMPLEX\n",
    "\n",
    "Em seguida, com os dados do problema prontos, devem ser estes colocados na FPI, permitindo fazer um tableau de maneira mais eficiente.\n"
   ]
  },
  {
   "cell_type": "code",
   "execution_count": 3,
   "metadata": {},
   "outputs": [
    {
     "name": "stdout",
     "output_type": "stream",
     "text": [
      "\n",
      "---------------------------------------------\n",
      "| INFORMAÇÕES DA PROGRAMAÇÃO LINEAR| \n",
      "\n",
      "- Número de variáveis: 5;\n",
      "\n",
      "- Número de Restrições: 5 \n",
      "\n",
      "- Vetor de Custos: [-3.  0. -7. -5.  8.  0.  0.  0.  0.  0.] \n",
      "\n",
      "- Vetor de Resultados: [ 6.  6. -2. -7. -2.]\n",
      "\n",
      "- Matriz de Restrições: \n",
      " [[ 2. -1.  1. -1. -2.  1.  0.  0.  0.  0.]\n",
      " [-1.  2. -1.  0. -2.  0.  1.  0.  0.  0.]\n",
      " [ 2.  2.  2. -1.  0.  0.  0.  1.  0.  0.]\n",
      " [ 2. -1.  0. -2.  2.  0.  0.  0.  1.  0.]\n",
      " [-2.  2.  2. -2. -2.  0.  0.  0.  0.  1.]] \n",
      "\n",
      "----------------------------------------------\n",
      "        \n",
      "\n",
      "---------------------------------------------\n",
      "| INFORMAÇÕES DA PROGRAMAÇÃO LINEAR| \n",
      "\n",
      "- Número de variáveis: 5;\n",
      "\n",
      "- Número de Restrições: 5 \n",
      "\n",
      "- Vetor de Custos: [-67. -64. -71. -69. -56. -64. -64. -64. -64. -64.] \n",
      "\n",
      "- Vetor de Resultados: [ 6.   6.  -2.  -3.5 -2. ]\n",
      "\n",
      "- Matriz de Restrições: \n",
      " [[-2.   1.  -1.   1.   2.  -1.   0.   0.   0.   0. ]\n",
      " [ 1.  -2.   1.   0.   2.   0.  -1.   0.   0.   0. ]\n",
      " [ 2.   2.   2.  -1.   0.   0.   0.   1.   0.   0. ]\n",
      " [ 1.  -0.5  0.  -1.   1.   0.   0.   0.   0.5  0. ]\n",
      " [ 2.  -2.  -2.   2.   2.   0.   0.   0.   0.  -1. ]] \n",
      "\n",
      "----------------------------------------------\n",
      "        \n",
      "\n",
      "        1. otima\n",
      "        2. -16.0\n",
      "        4. [ 6.   6.  -2.  -3.5 -2. ]\n",
      "        3. [-0. -0. -0. -0.  8.]\n",
      "\n",
      "        \n"
     ]
    }
   ],
   "source": [
    "s = sp.LinearProgram(var, res, cost, m)\n",
    "\n",
    "s.makeFPI()\n",
    "\n",
    "print(s)\n",
    "\n",
    "simplexRunner = sp.Simplex(s)\n",
    "simplexRunner.runSimplex()\n",
    "\n",
    "print(simplexRunner)"
   ]
  }
 ],
 "metadata": {
  "kernelspec": {
   "display_name": "Python 3.10.6 64-bit",
   "language": "python",
   "name": "python3"
  },
  "language_info": {
   "codemirror_mode": {
    "name": "ipython",
    "version": 3
   },
   "file_extension": ".py",
   "mimetype": "text/x-python",
   "name": "python",
   "nbconvert_exporter": "python",
   "pygments_lexer": "ipython3",
   "version": "3.8.10"
  },
  "orig_nbformat": 4,
  "vscode": {
   "interpreter": {
    "hash": "916dbcbb3f70747c44a77c7bcd40155683ae19c65e1c03b4aa3499c5328201f1"
   }
  }
 },
 "nbformat": 4,
 "nbformat_minor": 2
}
